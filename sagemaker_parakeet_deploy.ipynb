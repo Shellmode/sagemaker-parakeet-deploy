{
 "cells": [
  {
   "cell_type": "markdown",
   "id": "d6d39c4b-28a7-441b-8584-9ba00360f906",
   "metadata": {},
   "source": [
    "# Install dependencies and prepare environment"
   ]
  },
  {
   "cell_type": "code",
   "execution_count": null,
   "id": "52eabaf3-0802-4969-8a8a-7a80795682ec",
   "metadata": {},
   "outputs": [],
   "source": [
    "!pip install -U sagemaker boto3"
   ]
  },
  {
   "cell_type": "code",
   "execution_count": null,
   "id": "3ce85e9b-e1bb-4b73-9962-ff44c3e1ab6a",
   "metadata": {},
   "outputs": [],
   "source": [
    "import boto3\n",
    "import sagemaker\n",
    "import time\n",
    "\n",
    "sm = boto3.Session().client(\"sagemaker\")\n",
    "sess = sagemaker.session.Session()\n",
    "role = sagemaker.get_execution_role()\n",
    "region = sess._region_name\n",
    "bucket = sess.default_bucket()\n",
    "model_path_prefix = \"nvidia-parakeet\"\n",
    "\n",
    "# Get sagemaker DLC\n",
    "image_uri = sagemaker.image_uris.retrieve(\n",
    "    framework=\"pytorch\",\n",
    "    region=region,\n",
    "    py_version=\"py312\",\n",
    "    image_scope=\"inference\",\n",
    "    version=\"2.6.0\",\n",
    "    instance_type=\"ml.g5.2xlarge\",\n",
    ")\n",
    "\n",
    "print(\"Sagemaker execution role:\", role)\n",
    "print(\"Deployment region:\", region)\n",
    "print(\"Sagemaker image_uri:\", image_uri)\n",
    "print(\"Model upload S3 path:\", f\"s3://{bucket}/{model_path_prefix}/\")\n",
    "\n",
    "# Set sagemaker env\n",
    "model_name = \"nvidia-parakeet-model\"\n",
    "endpoint_config_name = \"nvidia-parakeet-endpoint-config\"\n",
    "endpoint_name = \"nvidia-parakeet-endpoint\"\n",
    "print(\"Sagemaker model name:\", model_name)\n",
    "print(\"Sagemaker endpoint_config_name name:\", endpoint_config_name)\n",
    "print(\"Sagemaker endpoint_name name:\", endpoint_name)"
   ]
  },
  {
   "cell_type": "markdown",
   "id": "95f500d0-6762-435d-b0a1-e740de69a82b",
   "metadata": {},
   "source": [
    "# Upload model inference code"
   ]
  },
  {
   "cell_type": "code",
   "execution_count": null,
   "id": "c8377e7f-6f77-47e3-8254-5f518cfb2630",
   "metadata": {},
   "outputs": [],
   "source": [
    "!rm -rf model.tar.\n",
    "!tar -zcvf model.tar.gz ./code --exclude='*.ipynb' --exclude='*/.ipynb_checkpoints'"
   ]
  },
  {
   "cell_type": "code",
   "execution_count": null,
   "id": "d5e22db0-1711-42cf-8b5d-d49eb8f12f0c",
   "metadata": {},
   "outputs": [],
   "source": [
    "model_data = sess.upload_data(\"model.tar.gz\", bucket, model_path_prefix)\n",
    "print(f\"Code tar ball uploaded to ---> {model_data}\")"
   ]
  },
  {
   "cell_type": "markdown",
   "id": "b31fb547-5368-404d-8f19-29df23cdd88e",
   "metadata": {},
   "source": [
    "# Deploy sagemaker resources"
   ]
  },
  {
   "cell_type": "code",
   "execution_count": null,
   "id": "e2c054c8-2a60-4b89-b5a6-6231e690f600",
   "metadata": {},
   "outputs": [],
   "source": [
    "def create_model():\n",
    "    resp = sm.create_model(\n",
    "        ModelName=model_name,\n",
    "        ExecutionRoleArn=role,\n",
    "        Containers=[{\"Image\": image_uri, \"ModelDataUrl\": model_data}]\n",
    "    )\n",
    "    print(f\"Created model: {resp}\")\n",
    "\n",
    "create_model()"
   ]
  },
  {
   "cell_type": "code",
   "execution_count": null,
   "id": "0bba1861-3b7f-4d2c-903c-bc1fbf6438a0",
   "metadata": {},
   "outputs": [],
   "source": [
    "def create_endpoint_config():\n",
    "    resp = sm.create_endpoint_config(\n",
    "        EndpointConfigName=endpoint_config_name,\n",
    "        ProductionVariants=[\n",
    "            {\n",
    "                \"VariantName\": \"AllTraffic\",\n",
    "                \"ModelName\": model_name,\n",
    "                \"InstanceType\": \"ml.g5.2xlarge\",\n",
    "                \"InitialInstanceCount\": 1,\n",
    "                \"ContainerStartupHealthCheckTimeoutInSeconds\": 300\n",
    "            }\n",
    "        ],\n",
    "    )\n",
    "    print(f\"Created Endpoint Config: {resp}\")\n",
    "\n",
    "create_endpoint_config()"
   ]
  },
  {
   "cell_type": "code",
   "execution_count": null,
   "id": "f4457c76-e2a4-45d5-8fbf-bad3e6a96d7f",
   "metadata": {},
   "outputs": [],
   "source": [
    "def create_endpoint():\n",
    "    resp = sm.create_endpoint(EndpointName=endpoint_name, EndpointConfigName=endpoint_config_name)\n",
    "    print(f\"\\nCreated Endpoint: {resp}\")\n",
    "\n",
    "create_endpoint()"
   ]
  },
  {
   "cell_type": "code",
   "execution_count": null,
   "id": "16c88097-a8c4-4e48-90b1-6f663dfe8fb3",
   "metadata": {},
   "outputs": [],
   "source": [
    "print(\"Waiting for endpoint in service\")\n",
    "while True:\n",
    "    details = sm.describe_endpoint(EndpointName=endpoint_name)\n",
    "    status = details[\"EndpointStatus\"]\n",
    "    if status in [\"InService\", \"Failed\"]:\n",
    "        print(f\"\\nDone! Status: {status}\")\n",
    "        break\n",
    "    print(\".\", end=\"\", flush=True)\n",
    "    time.sleep(30)"
   ]
  },
  {
   "cell_type": "markdown",
   "id": "70a1211b-c030-40d9-9879-42c7449a630d",
   "metadata": {},
   "source": [
    "# Invoke sagemaker endpoint"
   ]
  },
  {
   "cell_type": "code",
   "execution_count": null,
   "id": "97995568-bfa1-4135-8f63-95e0e6a17e0a",
   "metadata": {},
   "outputs": [],
   "source": [
    "!pip install -U kaldiio"
   ]
  },
  {
   "cell_type": "code",
   "execution_count": null,
   "id": "93de435e-da04-4b37-bca9-6012a3a5d14c",
   "metadata": {},
   "outputs": [],
   "source": [
    "import json\n",
    "import boto3\n",
    "import kaldiio\n",
    "import time\n",
    "import sys\n",
    "\n",
    "def prepare_audio_data(audio_path):\n",
    "    sample_rate, wav_np = kaldiio.load_mat(audio_path)\n",
    "    audio_bytes = wav_np.tobytes()\n",
    "    print(f\"Successfully loaded audio file: {audio_path}, sample rate: {sample_rate}\")\n",
    "    return audio_bytes\n",
    "\n",
    "def invoke_endpoint(audio_bytes, endpoint_name):\n",
    "    runtime_client = boto3.client('sagemaker-runtime')\n",
    "    print(f\"Invoking endpoint: {endpoint_name}\")\n",
    "\n",
    "    # Call the endpoint\n",
    "    response = runtime_client.invoke_endpoint(\n",
    "        EndpointName=endpoint_name,\n",
    "        ContentType='application/octet-stream',\n",
    "        Body=audio_bytes\n",
    "    )\n",
    "\n",
    "    # Parse response\n",
    "    result = json.loads(response['Body'].read().decode())\n",
    "    print(\"Endpoint invocation successful\")\n",
    "    return result\n",
    "\n",
    "def main():\n",
    "    # Get audio file path from command line arguments if provided\n",
    "    audio_file = \"2086-149220-0033.wav\"\n",
    "\n",
    "    print(f\"Starting to process audio file: {audio_file}\")\n",
    "    audio_bytes = prepare_audio_data(audio_file)\n",
    "        \n",
    "    start_time = time.time()\n",
    "    result = invoke_endpoint(audio_bytes,endpoint_name)\n",
    "    end_time = time.time()\n",
    "    time_used = round((end_time - start_time) * 1000)\n",
    "    print(f\"Inference time: {time_used}ms\")\n",
    "        \n",
    "    if result:\n",
    "        print(\"Model response:\")\n",
    "        print(json.dumps(result, ensure_ascii=False, indent=2))\n",
    "    else:\n",
    "        print(\"Invocation failed, no valid response received\")\n",
    "        sys.exit(1)\n",
    "\n",
    "if __name__ == \"__main__\":\n",
    "    main()\n"
   ]
  },
  {
   "cell_type": "markdown",
   "id": "5e7253e4-dbc0-4e88-8ed6-3e59950683ed",
   "metadata": {},
   "source": [
    "# Delete sagemaker resources"
   ]
  },
  {
   "cell_type": "code",
   "execution_count": null,
   "id": "52114e3b-fc37-4c7b-919c-79d8792d4ea0",
   "metadata": {},
   "outputs": [],
   "source": [
    "sm.delete_endpoint(EndpointName=endpoint_name)\n",
    "sm.delete_endpoint_config(EndpointConfigName=endpoint_config_name)\n",
    "sm.delete_model(ModelName=model_name)"
   ]
  }
 ],
 "metadata": {
  "kernelspec": {
   "display_name": "conda_python3",
   "language": "python",
   "name": "conda_python3"
  },
  "language_info": {
   "codemirror_mode": {
    "name": "ipython",
    "version": 3
   },
   "file_extension": ".py",
   "mimetype": "text/x-python",
   "name": "python",
   "nbconvert_exporter": "python",
   "pygments_lexer": "ipython3",
   "version": "3.10.17"
  }
 },
 "nbformat": 4,
 "nbformat_minor": 5
}
